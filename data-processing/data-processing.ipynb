{
 "cells": [
  {
   "cell_type": "markdown",
   "id": "f440eb8a-3484-4532-ae05-d6ec571dbedd",
   "metadata": {
    "tags": []
   },
   "source": [
    "# Data Processing\n",
    "\n",
    "MIT License\n",
    "\n",
    "Copyright (c) 2023 - J.R.Verbiest\n",
    "\n",
    "Permission is hereby granted, free of charge, to any person obtaining a copy\n",
    "of this software and associated documentation files (the \"Software\"), to deal\n",
    "in the Software without restriction, including without limitation the rights\n",
    "to use, copy, modify, merge, publish, distribute, sublicense, and/or sell\n",
    "copies of the Software, and to permit persons to whom the Software is\n",
    "furnished to do so, subject to the following conditions:\n",
    "\n",
    "The above copyright notice and this permission notice shall be included in all\n",
    "copies or substantial portions of the Software.\n",
    "\n",
    "THE SOFTWARE IS PROVIDED \"AS IS\", WITHOUT WARRANTY OF ANY KIND, EXPRESS OR\n",
    "IMPLIED, INCLUDING BUT NOT LIMITED TO THE WARRANTIES OF MERCHANTABILITY,\n",
    "FITNESS FOR A PARTICULAR PURPOSE AND NONINFRINGEMENT. IN NO EVENT SHALL THE\n",
    "AUTHORS OR COPYRIGHT HOLDERS BE LIABLE FOR ANY CLAIM, DAMAGES OR OTHER\n",
    "LIABILITY, WHETHER IN AN ACTION OF CONTRACT, TORT OR OTHERWISE, ARISING FROM,\n",
    "OUT OF OR IN CONNECTION WITH THE SOFTWARE OR THE USE OR OTHER DEALINGS IN THE\n",
    "SOFTWARE."
   ]
  },
  {
   "cell_type": "markdown",
   "id": "5f95940f-17ac-4b2a-93a7-1c3b9b0325e4",
   "metadata": {},
   "source": [
    "---"
   ]
  },
  {
   "cell_type": "markdown",
   "id": "c0baa55c-c9d5-4692-b06b-40c2e8b2e18a",
   "metadata": {},
   "source": [
    "Dataset: [TRIPOD—A Treadmill Walking Dataset with IMU, Pressure-Distribution and Photoelectric Data for Gait Analysis](https://www.mdpi.com/2306-5729/6/9/95)"
   ]
  },
  {
   "cell_type": "code",
   "execution_count": null,
   "id": "ae1bd585-58e9-4f58-bce1-5e4c50d46e20",
   "metadata": {},
   "outputs": [],
   "source": [
    "# --------------------------------------------------------------------------------------------\n",
    "# parameters\n",
    "# --------------------------------------------------------------------------------------------\n",
    "subject = \"<Sub_..>\"\n",
    "walking_speed = \"<PWS-..>\"\n",
    "sensor_location = \"RF\"\n",
    "\n",
    "SAVEDATA = 0\n",
    "# --------------------------------------------------------------------------------------------"
   ]
  },
  {
   "cell_type": "markdown",
   "id": "27951bf4-347d-4e8d-8224-9511993f05a0",
   "metadata": {},
   "source": [
    "---"
   ]
  },
  {
   "cell_type": "code",
   "execution_count": null,
   "id": "ffbadf44-43a2-40db-8aa1-439df2d914d1",
   "metadata": {},
   "outputs": [],
   "source": [
    "%load_ext autoreload\n",
    "%autoreload 2\n",
    "# --------------------------------------------------------------------------------------------\n",
    "\n",
    "import os\n",
    "import json\n",
    "\n",
    "import pandas as pd \n",
    "import numpy as np\n",
    "\n",
    "from bokeh.io import show, output_notebook\n",
    "from bokeh.plotting import figure\n",
    "\n",
    "import matplotlib.pyplot as plot\n",
    "\n",
    "import logging\n",
    "logging.basicConfig(level=logging.INFO, format=\"%(asctime)-15s %(message)s\")\n",
    "logger = logging.getLogger()\n",
    "\n",
    "import helper\n",
    "\n",
    "# --------------------------------------------------------------------------------------------\n",
    "# read config stuff\n",
    "# --------------------------------------------------------------------------------------------\n",
    "import yaml\n",
    "from yaml.loader import SafeLoader\n",
    "with open(os.path.join(os.getcwd(), \"config.yaml\")) as yaml_file:\n",
    "    config = yaml.load(yaml_file, Loader=SafeLoader)\n",
    "yaml_file.close()\n",
    "\n",
    "# --------------------------------------------------------------------------------------------\n",
    "\n",
    "pd.set_option('display.max_columns', None)\n",
    "pd.set_option('display.max_rows', None)\n",
    "\n",
    "output_notebook()"
   ]
  },
  {
   "cell_type": "code",
   "execution_count": null,
   "id": "8a6cecfd-2d03-4b8d-b18f-a008b9cc5468",
   "metadata": {},
   "outputs": [],
   "source": [
    "fs_imu = config['sensor']['fs_imu']\n",
    "fs_imu_resample = config['sensor']['fs_imu_resample']\n",
    "\n",
    "range_acc_g = config['sensor']['range_acc_g']\n",
    "range_gyr_deg = config['sensor']['range_gyr_deg']\n",
    "\n",
    "filter_cutoff = config['filter']['filter_cutoff']\n",
    "filter_order = config['filter']['filter_order']\n",
    "\n",
    "signal_duration = config['parameters']['signal_duration']\n",
    "gait_event_detection_threshold = config['gait_event_detection']['gait_event_detection_threshold']\n",
    "\n",
    "device_type = config['device_type']"
   ]
  },
  {
   "cell_type": "markdown",
   "id": "5a5d1d59-663c-4036-8f50-b1196e3218dc",
   "metadata": {},
   "source": [
    "---"
   ]
  },
  {
   "cell_type": "markdown",
   "id": "d6c760ca",
   "metadata": {},
   "source": [
    "### Load data"
   ]
  },
  {
   "cell_type": "code",
   "execution_count": null,
   "id": "a2c4352e-7a7b-42e1-9572-2bfb38ea4750",
   "metadata": {},
   "outputs": [],
   "source": [
    "imu_file =os.path.join(config[\"path\"][\"raw_data\"], subject, walking_speed, 'IMU', sensor_location + \".csv\")\n",
    "logger.info(\"imu file: %s\" %imu_file)\n",
    "\n",
    "df_imu = (pd.read_csv(imu_file, skiprows=7, index_col=False, names=['Time', 'Gyro X', 'Gyro Y', 'Gyro Z', 'Accel X', 'Accel Y', 'Accel Z', 'Pressure', 'Temperature', 'Quat W', 'Quat X', 'Quat Y', 'Quat Z'])\n",
    "          .pipe(helper.select_column, column = ['Time', 'Gyro X', 'Gyro Y', 'Gyro Z', 'Accel X', 'Accel Y', 'Accel Z'])\n",
    "          .rename(columns = {\n",
    "              'Accel X': 'Ax',\n",
    "              'Accel Y': 'Ay',\n",
    "              'Accel Z': 'Az',\n",
    "              'Gyro X':  'Gx',\n",
    "              'Gyro Y':  'Gy',\n",
    "              'Gyro Z':  'Gz'})\n",
    "              )\n",
    "\n",
    "df_imu.head()"
   ]
  },
  {
   "cell_type": "markdown",
   "id": "a0e7d976-1b93-4c1e-b074-412d85cd153d",
   "metadata": {
    "tags": []
   },
   "source": [
    "### A. Normalization"
   ]
  },
  {
   "cell_type": "code",
   "execution_count": null,
   "id": "5ec3dd90-f6ed-4a7d-bd0f-84748ab8ee99",
   "metadata": {},
   "outputs": [],
   "source": [
    "df_imu_norm = (df_imu\n",
    "               .pipe(helper.normalize_imu_data, range_acc_g, range_gyr_deg))\n",
    "\n",
    "df_imu_norm.head()"
   ]
  },
  {
   "cell_type": "markdown",
   "id": "231b3ffe-c47c-49d7-b752-adf0f5ffc397",
   "metadata": {
    "tags": []
   },
   "source": [
    "### B. Downsampling"
   ]
  },
  {
   "cell_type": "code",
   "execution_count": null,
   "id": "137bbcfd-41f9-421a-9486-00dddb99e663",
   "metadata": {},
   "outputs": [],
   "source": [
    "df_imu_resample = (df_imu_norm\n",
    "                   .pipe(helper.resample_imu_data, fs_imu, fs_imu_resample))\n",
    "\n",
    "graph = figure(\n",
    "        title='IMU norm (red) - IMU resample (blue)',\n",
    "        sizing_mode=\"stretch_width\",\n",
    "        height=500,\n",
    "        x_axis_label='time [s]',\n",
    "        y_axis_label='Gx [rad/s]',\n",
    "        toolbar_location = \"below\"\n",
    "    )\n",
    "        \n",
    "graph.line(df_imu_norm['Time'], -df_imu_norm[\"Gx\"], line_color='red', line_width=2)\n",
    "graph.circle(df_imu_norm['Time'], -df_imu_norm[\"Gx\"], size = 3,  line_color = 'red', fill_color='red')\n",
    "\n",
    "graph.line(df_imu_resample['Time'], -df_imu_resample[\"Gx\"], line_color='blue', line_width=2)\n",
    "graph.circle(df_imu_resample['Time'], -df_imu_resample[\"Gx\"], size = 3,  line_color = 'blue', fill_color='blue')\n",
    "show(graph)\n",
    "\n",
    "df_imu_resample.head()"
   ]
  },
  {
   "cell_type": "markdown",
   "id": "eb239d87-bc9f-456d-872c-83bec967b37e",
   "metadata": {
    "tags": []
   },
   "source": [
    "### C - Filtering"
   ]
  },
  {
   "cell_type": "code",
   "execution_count": null,
   "id": "8e8c5cce-f5d4-4782-827f-7708399d601f",
   "metadata": {},
   "outputs": [],
   "source": [
    "df_imu_lpf = (df_imu_resample\n",
    "              .pipe(helper.lpf_signal, fs=fs_imu_resample, cutoff=filter_cutoff, order = filter_order)\n",
    "             )\n",
    "\n",
    "graph = figure(\n",
    "        title='IMU resample (blue) - IMU filtered (green)',\n",
    "        sizing_mode=\"stretch_width\",\n",
    "        height=500,\n",
    "        x_axis_label='time [s]',\n",
    "        y_axis_label='Gx [rad/s]',\n",
    "        toolbar_location = \"below\"\n",
    "    )\n",
    "        \n",
    "graph.line(df_imu_resample['Time'], -df_imu_resample[\"Gx\"], line_color='blue', line_width=2)\n",
    "graph.circle(df_imu_resample['Time'], -df_imu_resample[\"Gx\"], size = 3,  line_color = 'blue', fill_color='blue')\n",
    "\n",
    "graph.line(df_imu_lpf['Time'], -df_imu_lpf[\"Gx\"], line_color='green', line_width=2)\n",
    "graph.circle(df_imu_lpf['Time'], -df_imu_lpf[\"Gx\"], size = 3,  line_color = 'green', fill_color='green')\n",
    "\n",
    "show(graph)"
   ]
  },
  {
   "cell_type": "markdown",
   "id": "9b6a99d1-1721-4dbd-8ce1-38d5994e2355",
   "metadata": {
    "tags": []
   },
   "source": [
    "### D - Gait Cycle Segmentation"
   ]
  },
  {
   "cell_type": "markdown",
   "id": "7a19ad08-46d7-43bd-8515-cc440ade5c46",
   "metadata": {},
   "source": [
    "#### get first IC"
   ]
  },
  {
   "cell_type": "code",
   "execution_count": null,
   "id": "8cbab9f3-86ca-4fd9-a2d3-181ffd365c2a",
   "metadata": {},
   "outputs": [],
   "source": [
    "df_first_ic = pd.read_csv(os.path.join(config[\"path\"][\"raw_data\"], \"SyncInfo.csv\"))\n",
    "first_ic = helper.get_first_ic(df_first_ic, subject, walking_speed)\n",
    "\n",
    "logger.info('First IC (R-foot) %s' %first_ic)"
   ]
  },
  {
   "cell_type": "markdown",
   "id": "4ffc77a9-0955-4c01-8c89-a59042cee13c",
   "metadata": {},
   "source": [
    "#### ground truth (OptoGait)"
   ]
  },
  {
   "cell_type": "code",
   "execution_count": null,
   "id": "e4451851-e35f-4081-9766-f898ca62219f",
   "metadata": {},
   "outputs": [],
   "source": [
    "path_optogait = os.path.join(config[\"path\"][\"raw_data\"], subject, walking_speed, 'OptoGait/optogait.csv')\n",
    "logger.info('Path OptoGait %s' %path_optogait)\n",
    "\n",
    "df_optogait_data = pd.read_csv(path_optogait, index_col=False)\n",
    "\n",
    "metadata_seg = helper.get_optogait_data(df_optogait_data, first_ic, signal_duration, sensor_location)\n",
    "metadata_seg.head()"
   ]
  },
  {
   "cell_type": "code",
   "execution_count": null,
   "id": "1b2ee488-dfa7-414f-a9c1-d5e05bcfa31f",
   "metadata": {},
   "outputs": [],
   "source": [
    "metadata_seg.tail()"
   ]
  },
  {
   "cell_type": "code",
   "execution_count": null,
   "id": "ffb10bc2-de8f-425d-b539-f34c7d6d6d88",
   "metadata": {},
   "outputs": [],
   "source": [
    "df_optogait_data[['L/R', 'Split', 'Stride', 'StrideTime\\\\Cycle']].head(10)"
   ]
  },
  {
   "cell_type": "markdown",
   "id": "ddaf851c-8381-4214-97b1-f07d8414e00f",
   "metadata": {},
   "source": [
    "#### Gait Event Detection"
   ]
  },
  {
   "cell_type": "code",
   "execution_count": null,
   "id": "e78002ca-ebd6-4dc7-9b2b-7e3c81fc1123",
   "metadata": {},
   "outputs": [],
   "source": [
    "IC = helper.gait_event_detection(signal = -df_imu_lpf['Gx'], threshold = gait_event_detection_threshold)\n",
    "IC_sec = (IC/fs_imu_resample).tolist()\n",
    "IC_sec.insert(0, first_ic)\n",
    "IC_sec = np.asarray(IC_sec)\n",
    "\n",
    "delta_stride_time = (config['parameters']['perc_stride_time']/100)*metadata_seg['stride time (OptoGait) [sec]'].describe()['mean']\n",
    "logger.info('delta_stride_time %s' %delta_stride_time)\n",
    "IC = helper.drop_false_IC(delta_stride_time, IC_sec)"
   ]
  },
  {
   "cell_type": "code",
   "execution_count": null,
   "id": "3db869a8-9430-4355-a39a-aaff7d3c593d",
   "metadata": {},
   "outputs": [],
   "source": [
    "if len(IC) > metadata_seg.shape[0]: IC_len = metadata_seg.shape[0]\n",
    "else: IC_len = len(IC)\n",
    "\n",
    "logger.info('len(IC) %s' %len(IC))\n",
    "logger.info('metadata_seg.shape[0] %s' %metadata_seg.shape[0])\n",
    "\n",
    "metadata_seg = metadata_seg[:IC_len]\n",
    "metadata_seg['IC_n (GaitED) [sec]'] = IC[:IC_len]\n",
    "metadata_seg['IC_n-1 (GaitED) [sec]'] = metadata_seg['IC_n (GaitED) [sec]'].shift(1)\n",
    "metadata_seg['IC_n-1 (GaitED) [sec]'].iloc[0] = first_ic\n",
    "metadata_seg['stride time (GaitED) [sec]'] = metadata_seg['IC_n (GaitED) [sec]']-metadata_seg['IC_n-1 (GaitED) [sec]']\n",
    "metadata_seg['(stride time (GaitED) - stride time (OptoGait)) [ms]'] = 1000*round(metadata_seg['stride time (GaitED) [sec]']-metadata_seg['stride time (OptoGait) [sec]'],3)\n",
    "metadata_seg = metadata_seg.reindex(columns=['stride length (OptoGait) [cm]', 'stride time (OptoGait) [sec]', 'IC_n-1 [sec]', 'IC_n [sec]', 'stride time (GaitED) [sec]', 'IC_n-1 (GaitED) [sec]', 'IC_n (GaitED) [sec]', '(stride time (GaitED) - stride time (OptoGait)) [ms]'])\n",
    "\n",
    "metadata_seg"
   ]
  },
  {
   "cell_type": "code",
   "execution_count": null,
   "id": "aaab4975-f2e5-4de4-8d95-87a726c86365",
   "metadata": {},
   "outputs": [],
   "source": [
    "metadata_seg['(stride time (GaitED) - stride time (OptoGait)) [ms]'].describe()"
   ]
  },
  {
   "cell_type": "code",
   "execution_count": null,
   "id": "c329f321-1196-43c0-808e-f1534091c81f",
   "metadata": {},
   "outputs": [],
   "source": [
    "metadata_seg['stride time (GaitED) [sec]'].describe()"
   ]
  },
  {
   "cell_type": "code",
   "execution_count": null,
   "id": "fcfeebd3-77f0-4d09-9ad5-5910ceeb5561",
   "metadata": {},
   "outputs": [],
   "source": [
    "helper.plot_imu_axis(imu_norm = df_imu_norm, imu_lpf = df_imu_lpf, firstIC = first_ic, IC_ref = metadata_seg['IC_n [sec]'], IC_gs = metadata_seg['IC_n (GaitED) [sec]'], axis = 'Gx [rad/s]')\n",
    "helper.plot_imu_axis(imu_norm = df_imu_norm, imu_lpf = df_imu_lpf, firstIC = first_ic, IC_ref = metadata_seg['IC_n [sec]'], IC_gs = metadata_seg['IC_n (GaitED) [sec]'], axis = 'Gy [rad/s]')\n",
    "helper.plot_imu_axis(imu_norm = df_imu_norm, imu_lpf = df_imu_lpf, firstIC = first_ic, IC_ref = metadata_seg['IC_n [sec]'], IC_gs = metadata_seg['IC_n (GaitED) [sec]'], axis = 'Gz [rad/s]')\n",
    "helper.plot_imu_axis(imu_norm = df_imu_norm, imu_lpf = df_imu_lpf, firstIC = first_ic, IC_ref = metadata_seg['IC_n [sec]'], IC_gs = metadata_seg['IC_n (GaitED) [sec]'], axis = 'Ax [g]')\n",
    "helper.plot_imu_axis(imu_norm = df_imu_norm, imu_lpf = df_imu_lpf, firstIC = first_ic, IC_ref = metadata_seg['IC_n [sec]'], IC_gs = metadata_seg['IC_n (GaitED) [sec]'], axis = 'Ay [g]')\n",
    "helper.plot_imu_axis(imu_norm = df_imu_norm, imu_lpf = df_imu_lpf, firstIC = first_ic, IC_ref = metadata_seg['IC_n [sec]'], IC_gs = metadata_seg['IC_n (GaitED) [sec]'], axis = 'Az [g]')"
   ]
  },
  {
   "cell_type": "markdown",
   "id": "fd605852-756a-4b02-a760-43ded6a94524",
   "metadata": {
    "tags": []
   },
   "source": [
    "#### Gait Segmentation & Labelling"
   ]
  },
  {
   "cell_type": "code",
   "execution_count": null,
   "id": "c63ceef9-825d-45b4-8c22-9fea57d1e110",
   "metadata": {},
   "outputs": [],
   "source": [
    "gait_cycle = []\n",
    "proc_metadata = []\n",
    "\n",
    "for cycle in range(metadata_seg.shape[0]): # metadata_seg.shape[0] = number of gait cycles (IC-IC) starting from zero\n",
    "    #logger.info('Gait cycle %s' %cycle)\n",
    "    gait_cycle.append(helper.get_gait_cycle(df_imu_lpf, metadata_seg['IC_n-1 (GaitED) [sec]'][cycle], metadata_seg['IC_n (GaitED) [sec]'][cycle]))\n",
    "    data_axes = gait_cycle[cycle].drop(columns = ['Time'])\n",
    "    \n",
    "    # check if we have a complete gait cycle\n",
    "    nmb_of_samples_cycle = data_axes.shape[0]\n",
    "    if str(metadata_seg.iloc[cycle]['stride time (GaitED) [sec]']) == 'nan': \n",
    "        # if stride time is nan -> nmb_of_samples_cycle_ref = 0 -> cycle_complete = 'FALSE'\n",
    "        nmb_of_samples_cycle_ref = 0\n",
    "    else:\n",
    "        nmb_of_samples_cycle_ref = int(round(metadata_seg.iloc[cycle]['stride time (GaitED) [sec]']*config['sensor']['fs_imu_resample'],0))\n",
    "        \n",
    "    if abs(nmb_of_samples_cycle_ref - nmb_of_samples_cycle) > config['parameters']['delta']:\n",
    "        cycle_complete = 'FALSE'\n",
    "    else: \n",
    "        cycle_complete = 'TRUE'\n",
    "        \n",
    "    x_data = helper.json_sensordata(\n",
    "        device_type=device_type, \n",
    "        sensors=[\n",
    "            { \"name\": \"Gx\", \"units\": \"rad/s\" },\n",
    "            { \"name\": \"Gy\", \"units\": \"rad/s\" },\n",
    "            { \"name\": \"Gz\", \"units\": \"rad/s\" },\n",
    "            { \"name\": \"Ax\", \"units\": \"g\" },\n",
    "            { \"name\": \"Ay\", \"units\": \"g\" },\n",
    "            { \"name\": \"Az\", \"units\": \"g\" }\n",
    "        ], \n",
    "        sensors_values=data_axes.values.tolist(), \n",
    "        interval_ms=round(1000*(1/config['sensor']['fs_imu_resample']),6)\n",
    "    )\n",
    "    \n",
    "    json_filename = subject+'-'+walking_speed+'-'+sensor_location+'-'+str(cycle)+'-stride-length-cm-'+str(int(metadata_seg.iloc[cycle]['stride length (OptoGait) [cm]']))+'.json'\n",
    "    \n",
    "    if SAVEDATA == True:\n",
    "        with open(os.path.join(config['path']['processed_data'],subject,walking_speed,json_filename), 'w') as json_file:\n",
    "            json.dump(x_data, json_file)\n",
    "        json_file.close()\n",
    "    \n",
    "    proc_metadata.append({\n",
    "        'filename':                       str(json_filename),\n",
    "        'subject':                        subject,\n",
    "        'PWS':                            walking_speed,\n",
    "        'gait cycle':                     cycle,\n",
    "        'fs [Hz]':                        config['sensor']['fs_imu_resample'],\n",
    "        'cycle complete':                 cycle_complete,\n",
    "        'stride length (OptoGait) [cm]':  metadata_seg.iloc[cycle]['stride length (OptoGait) [cm]'],\n",
    "        'stride time (OptoGait) [sec]':   metadata_seg.iloc[cycle]['stride time (OptoGait) [sec]'],\n",
    "        'IC_n-1 [sec] (OptoGait) [sec]':  metadata_seg.iloc[cycle]['IC_n-1 [sec]'],\n",
    "        'IC_n [sec] (OptoGait) [sec]':    metadata_seg.iloc[cycle]['IC_n [sec]'],\n",
    "        'stride time (GaitED) [sec]':     metadata_seg.iloc[cycle]['stride time (GaitED) [sec]'],\n",
    "        'IC_n-1 (GaitED) [sec]':          metadata_seg.iloc[cycle]['IC_n-1 (GaitED) [sec]'],        \n",
    "        'IC_n (GaitED) [sec]':            metadata_seg.iloc[cycle]['IC_n (GaitED) [sec]']      \n",
    "    })\n",
    "    \n",
    "proc_dataset_meta = pd.DataFrame.from_records(proc_metadata)\n",
    "\n",
    "json_data = proc_dataset_meta.to_json(orient=\"records\")\n",
    "\n",
    "if SAVEDATA == True:\n",
    "    with open(os.path.join(config['path']['proc_dataset'],subject+'-'+walking_speed+'-'+sensor_location+'.json'), 'w') as f:\n",
    "        f.write(json_data)\n",
    "    f.close()\n",
    "    \n",
    "proc_dataset_meta.head()"
   ]
  },
  {
   "cell_type": "markdown",
   "id": "54f12401-3312-41a4-815d-b754a68b1298",
   "metadata": {},
   "source": [
    "---"
   ]
  }
 ],
 "metadata": {
  "kernelspec": {
   "display_name": "Python 3 (ipykernel)",
   "language": "python",
   "name": "python3"
  },
  "language_info": {
   "codemirror_mode": {
    "name": "ipython",
    "version": 3
   },
   "file_extension": ".py",
   "mimetype": "text/x-python",
   "name": "python",
   "nbconvert_exporter": "python",
   "pygments_lexer": "ipython3",
   "version": "3.10.8"
  }
 },
 "nbformat": 4,
 "nbformat_minor": 5
}
