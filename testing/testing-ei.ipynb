{
 "cells": [
  {
   "cell_type": "markdown",
   "id": "51e96c6d-f141-45c4-a5e9-94f91e132f38",
   "metadata": {},
   "source": [
    "# Testing"
   ]
  },
  {
   "cell_type": "markdown",
   "id": "0625d7d2-89dd-4eaf-8ee1-f20685fd6495",
   "metadata": {},
   "source": [
    "MIT License\n",
    "\n",
    "Copyright (c) 2023 - J.R.Verbiest\n",
    "\n",
    "Permission is hereby granted, free of charge, to any person obtaining a copy\n",
    "of this software and associated documentation files (the \"Software\"), to deal\n",
    "in the Software without restriction, including without limitation the rights\n",
    "to use, copy, modify, merge, publish, distribute, sublicense, and/or sell\n",
    "copies of the Software, and to permit persons to whom the Software is\n",
    "furnished to do so, subject to the following conditions:\n",
    "\n",
    "The above copyright notice and this permission notice shall be included in all\n",
    "copies or substantial portions of the Software.\n",
    "\n",
    "THE SOFTWARE IS PROVIDED \"AS IS\", WITHOUT WARRANTY OF ANY KIND, EXPRESS OR\n",
    "IMPLIED, INCLUDING BUT NOT LIMITED TO THE WARRANTIES OF MERCHANTABILITY,\n",
    "FITNESS FOR A PARTICULAR PURPOSE AND NONINFRINGEMENT. IN NO EVENT SHALL THE\n",
    "AUTHORS OR COPYRIGHT HOLDERS BE LIABLE FOR ANY CLAIM, DAMAGES OR OTHER\n",
    "LIABILITY, WHETHER IN AN ACTION OF CONTRACT, TORT OR OTHERWISE, ARISING FROM,\n",
    "OUT OF OR IN CONNECTION WITH THE SOFTWARE OR THE USE OR OTHER DEALINGS IN THE\n",
    "SOFTWARE."
   ]
  },
  {
   "cell_type": "code",
   "execution_count": null,
   "id": "ad524533-d6a6-4698-8aaf-ee94fd028752",
   "metadata": {},
   "outputs": [],
   "source": [
    "import os\n",
    "\n",
    "import ei_helper\n",
    "import helper\n",
    "\n",
    "import numpy as np\n",
    "import pandas as pd\n",
    "import tensorflow as tf\n",
    "\n",
    "import pingouin as pg\n",
    "\n",
    "%load_ext autoreload\n",
    "%autoreload 2"
   ]
  },
  {
   "cell_type": "markdown",
   "id": "8e240a7c-e3b7-4175-a547-631d590ef4b7",
   "metadata": {},
   "source": [
    "---"
   ]
  },
  {
   "cell_type": "markdown",
   "id": "c703ad15-ee07-4921-8810-e102a92b06d6",
   "metadata": {},
   "source": [
    "## Testing - int8 model"
   ]
  },
  {
   "cell_type": "code",
   "execution_count": null,
   "id": "aa5ccb13-364c-495d-b0c9-d02ff0402269",
   "metadata": {},
   "outputs": [],
   "source": [
    "path_testing = '<home/user/data/mlate2dge/processed/testing/>' # should be moved to a env file\n",
    "path_model   = '<home/user/data/mlate2dge/artifacts/model/tensorflow_lite_int8_model>' # should be moved to a env file\n",
    "\n",
    "config_dataset_signal_length = 648 # should be moved to a config file\n",
    "\n",
    "print(\"path files: %s\", path_testing)\n",
    "print(\"path model: %s\", path_model)"
   ]
  },
  {
   "cell_type": "code",
   "execution_count": null,
   "id": "323c0116-767d-488b-adf7-038f10c35e47",
   "metadata": {},
   "outputs": [],
   "source": [
    "files = []\n",
    "\n",
    "for file in os.listdir(path_testing):\n",
    "    if file.endswith(\".json\"):\n",
    "        files.append(file)\n",
    "\n",
    "# load tflite model\n",
    "interpreter = tf.lite.Interpreter(path_model)\n",
    "\n",
    "# get input and output tensors\n",
    "input_details  = interpreter.get_input_details()\n",
    "output_details = interpreter.get_output_details()\n",
    "\n",
    "# allocate tensors\n",
    "interpreter.allocate_tensors()\n",
    "\n",
    "input_type = input_details[0]['dtype']\n",
    "input_scale, input_zero_point = input_details[0]['quantization']\n",
    "\n",
    "output_type = output_details[0]['dtype']\n",
    "output_scale, output_zero_point = output_details[0]['quantization']\n",
    "\n",
    "print(\"input details: %s\", input_type)\n",
    "print(\"input scale: %s\", input_scale)\n",
    "print(\"input zero_point: %s\", input_zero_point)\n",
    "\n",
    "print(\"output details: %s\", output_type)\n",
    "print(\"output scale: %s\", output_scale)\n",
    "print(\"output zero_point: %s\", output_zero_point)\n",
    "\n",
    "results = []\n",
    "for file in files:\n",
    "    X_testing, Y_testing = helper.json_file_to_npy_array(os.path.join(path_testing,file), config_dataset_signal_length)\n",
    "    if input_type == np.int8:\n",
    "        # https://www.tensorflow.org/lite/performance/post_training_quantization, equation \n",
    "        X_testing = np.around((X_testing/input_scale)+input_zero_point)\n",
    "\n",
    "    # convert to type given by input_details[0]['dtype']\n",
    "    X_testing = np.array([X_testing], dtype=input_type)\n",
    "    \n",
    "    # create input tensor\n",
    "    interpreter.set_tensor(input_details[0]['index'], X_testing)\n",
    "    \n",
    "    # run inference\n",
    "    interpreter.invoke()\n",
    "        \n",
    "    Y = interpreter.get_tensor(output_details[0]['index'])\n",
    "    if output_type == np.int8:\n",
    "        Y = output_scale * (Y.astype(np.float32) - output_zero_point)\n",
    "    \n",
    "    results.append([Y[0][0], float(Y_testing)])\n",
    "        \n",
    "df = pd.DataFrame(results, columns = ['result', 'expected result'])\n",
    "df.head()"
   ]
  },
  {
   "cell_type": "code",
   "execution_count": null,
   "id": "be8be21f-7604-4b74-ae76-3f4650697646",
   "metadata": {},
   "outputs": [],
   "source": [
    "gold_standard = 'OptoGait stride length [cm]'\n",
    "new_method    = 'Model (int8) stride length [cm]'\n",
    "\n",
    "df.rename(columns = {'expected result':gold_standard, 'result':new_method}, inplace = True)\n",
    "helper.outcome_metrics(df=df, gold_standard = gold_standard, new_method = new_method, model= 'ei_int8')\n",
    "df.head()"
   ]
  },
  {
   "cell_type": "markdown",
   "id": "79cde499-4186-4aa2-bc81-b1c9bc5297a5",
   "metadata": {},
   "source": [
    "---"
   ]
  },
  {
   "cell_type": "markdown",
   "id": "bca19e24-ebe5-4d54-b237-de1c00b3cb22",
   "metadata": {
    "tags": []
   },
   "source": [
    "## Testing - float32 (From Edge Impulse Studio)"
   ]
  },
  {
   "cell_type": "code",
   "execution_count": null,
   "id": "d60ebbf0-e041-48e6-a682-149d6d24de49",
   "metadata": {},
   "outputs": [],
   "source": [
    "ei_api_key    = \"<your_ei_api_key>\" # should be moved to a env file\n",
    "ei_project_id = \"<your_project_id>\" # should be moved to a env file\n",
    "\n",
    "df_testing_results = ei_helper.model_testing_result_tbl(ei_api_key, ei_project_id)\n",
    "df = df_testing_results.copy()\n",
    "\n",
    "gold_standard = 'OptoGait stride length [cm]'\n",
    "new_method    = 'ML-model (float32) stride length [cm]'\n",
    "\n",
    "df.rename(columns = {'expected result':gold_standard, 'result':new_method}, inplace = True)\n",
    "helper.outcome_metrics(df=df, gold_standard = gold_standard, new_method = new_method, model='ei_float32')\n",
    "df[[gold_standard, new_method]].corr(method='pearson')\n",
    "\n",
    "df_testing_results.head()"
   ]
  }
 ],
 "metadata": {
  "kernelspec": {
   "display_name": "Python 3 (ipykernel)",
   "language": "python",
   "name": "python3"
  },
  "language_info": {
   "codemirror_mode": {
    "name": "ipython",
    "version": 3
   },
   "file_extension": ".py",
   "mimetype": "text/x-python",
   "name": "python",
   "nbconvert_exporter": "python",
   "pygments_lexer": "ipython3",
   "version": "3.10.8"
  }
 },
 "nbformat": 4,
 "nbformat_minor": 5
}
